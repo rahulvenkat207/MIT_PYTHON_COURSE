{
 "cells": [
  {
   "cell_type": "code",
   "execution_count": 8,
   "metadata": {},
   "outputs": [
    {
     "name": "stdout",
     "output_type": "stream",
     "text": [
      "I can run than you\n",
      "run run run run run\n"
     ]
    }
   ],
   "source": [
    "# Write a program that: \n",
    "# * Asks the user for a verb.\n",
    "# * Prints \"I can _ better than you\" where you replace _ with the verb.\n",
    "# * Then prints the verb 5 times in a row separated by spaces.\n",
    "# For example, if the user enters run, you print:\n",
    "#     I can run better than you!\n",
    "#     run run run run run\n",
    "\n",
    "\n",
    "user_input = input(\"Enter a verb:\")\n",
    "print(\"I can\",user_input,\"than you\")\n",
    "print((user_input+\" \")*4+user_input)"
   ]
  },
  {
   "cell_type": "code",
   "execution_count": 9,
   "metadata": {},
   "outputs": [
    {
     "name": "stdout",
     "output_type": "stream",
     "text": [
      "False\n"
     ]
    }
   ],
   "source": [
    "# Write a program that:\n",
    "# * Saves a secret number. \n",
    "# * Asks the user for a number guess.\n",
    "# * Prints a bool depending on whether the guess matches the secret.\n",
    "\n",
    "s = 4\n",
    "s_num = int(input(\"Enter a secret number\"))\n",
    "print(s == s_num)\n"
   ]
  },
  {
   "cell_type": "code",
   "execution_count": 10,
   "metadata": {},
   "outputs": [
    {
     "name": "stdout",
     "output_type": "stream",
     "text": [
      "33 is the same as 33\n",
      "These are equal!\n"
     ]
    }
   ],
   "source": [
    "x = int(input(\"Enter a number for x: \"))\n",
    "y = int(input(\"Enter a different number for y: \"))\n",
    "if x == y:\n",
    "   print(x,\"is the same as\",y)\n",
    "   print(\"These are equal!\")"
   ]
  },
  {
   "cell_type": "code",
   "execution_count": 12,
   "metadata": {},
   "outputs": [
    {
     "name": "stdout",
     "output_type": "stream",
     "text": [
      "Both are equal\n"
     ]
    }
   ],
   "source": [
    "# Write a program that:\n",
    "# * Saves a secret number. \n",
    "# * Asks the user for a number guess.\n",
    "# * Prints whether the guess is too low, too high, or the same as the secret. \n",
    "secret_num = 5\n",
    "guess = int(input(\"Enter you guess: \"))\n",
    "if guess == secret_num:\n",
    "    print(\"Both are equal\")\n",
    "elif guess > secret_num:\n",
    "    print(\"your guess is too high\")\n",
    "else:\n",
    "    print(\"your guess is too low\")"
   ]
  },
  {
   "cell_type": "code",
   "execution_count": null,
   "metadata": {},
   "outputs": [],
   "source": []
  }
 ],
 "metadata": {
  "kernelspec": {
   "display_name": "Python 3",
   "language": "python",
   "name": "python3"
  },
  "language_info": {
   "codemirror_mode": {
    "name": "ipython",
    "version": 3
   },
   "file_extension": ".py",
   "mimetype": "text/x-python",
   "name": "python",
   "nbconvert_exporter": "python",
   "pygments_lexer": "ipython3",
   "version": "3.12.4"
  }
 },
 "nbformat": 4,
 "nbformat_minor": 2
}
