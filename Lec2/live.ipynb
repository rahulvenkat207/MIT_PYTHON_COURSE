{
 "cells": [
  {
   "cell_type": "code",
   "execution_count": 1,
   "metadata": {},
   "outputs": [
    {
     "name": "stdout",
     "output_type": "stream",
     "text": [
      "memyself\n",
      "me myself\n",
      "mememe\n"
     ]
    }
   ],
   "source": [
    "a = \"me\"\n",
    "b = \"myself\"\n",
    "c = a + b\n",
    "print(c)\n",
    "d = a + \" \" + b\n",
    "print(d)\n",
    "silly = a * 3\n",
    "print(silly)"
   ]
  },
  {
   "cell_type": "code",
   "execution_count": 3,
   "metadata": {},
   "outputs": [
    {
     "name": "stdout",
     "output_type": "stream",
     "text": [
      "3\n"
     ]
    }
   ],
   "source": [
    "# len fucntion\n",
    "s = \"abc\"\n",
    "print(len(s) )"
   ]
  },
  {
   "cell_type": "code",
   "execution_count": 6,
   "metadata": {},
   "outputs": [
    {
     "name": "stdout",
     "output_type": "stream",
     "text": [
      "a\n",
      "b\n",
      "c\n",
      "c\n",
      "b\n",
      "a\n"
     ]
    }
   ],
   "source": [
    "# Indexing\n",
    "s = \"abc\"\n",
    "print(s[0])\n",
    "print(s[1])\n",
    "print(s[2])\n",
    "#s[3]  # string index out of range\n",
    "print(s[-1])\n",
    "print(s[-2])\n",
    "print(s[-3])"
   ]
  },
  {
   "cell_type": "code",
   "execution_count": 7,
   "metadata": {},
   "outputs": [
    {
     "name": "stdout",
     "output_type": "stream",
     "text": [
      "def\n",
      "df\n",
      "abcdefgh\n",
      "hgfedcba\n",
      "ec\n"
     ]
    }
   ],
   "source": [
    "#Slicing\n",
    "s = \"abcdefgh\"\n",
    "print(s[3:6])\n",
    "print(s[3:6:2])\n",
    "print(s[:])\n",
    "print(s[::-1] )\n",
    "print(s[4:1:-2])\n"
   ]
  },
  {
   "cell_type": "code",
   "execution_count": 15,
   "metadata": {},
   "outputs": [
    {
     "data": {
      "text/plain": [
       "'bach'"
      ]
     },
     "execution_count": 15,
     "metadata": {},
     "output_type": "execute_result"
    }
   ],
   "source": [
    "s = \"each\"\n",
    "s = 'b'+s[1:len(s)] #if we use s[0]= 'b' this is an string assignment error\n",
    "s"
   ]
  },
  {
   "cell_type": "code",
   "execution_count": 18,
   "metadata": {},
   "outputs": [
    {
     "name": "stdout",
     "output_type": "stream",
     "text": [
      "the 3 musketeers\n",
      "the3musketeers\n"
     ]
    }
   ],
   "source": [
    "#Printing\n",
    "a = \"the\"\n",
    "b = 3\n",
    "c = \"musketeers\"\n",
    "print(a, b, c)\n",
    "# print(a + b + c) #can only concatenate str (not \"int\") to str\n",
    "print(a + str(b) + c)"
   ]
  },
  {
   "cell_type": "code",
   "execution_count": 20,
   "metadata": {},
   "outputs": [
    {
     "name": "stdout",
     "output_type": "stream",
     "text": [
      "my num is 5\n",
      "my num is 5\n"
     ]
    }
   ],
   "source": [
    "num = 5\n",
    "print(\"my num is\", num)\n",
    "s = \"my num is \" + str(num)\n",
    "print(s)"
   ]
  },
  {
   "cell_type": "code",
   "execution_count": 22,
   "metadata": {},
   "outputs": [
    {
     "name": "stdout",
     "output_type": "stream",
     "text": [
      "55555\n"
     ]
    }
   ],
   "source": [
    "# User Input\n",
    "text = input(\"Type anything... \")\n",
    "print(5*text)\n"
   ]
  },
  {
   "cell_type": "code",
   "execution_count": 25,
   "metadata": {},
   "outputs": [
    {
     "name": "stdout",
     "output_type": "stream",
     "text": [
      "11111\n",
      "5\n"
     ]
    }
   ],
   "source": [
    "num1 = input(\"Type a number: \") # consider input as a string\n",
    "print(5*num1)\n",
    "num2 = int(input(\"Type a number: \"))\n",
    "print(5*num2)"
   ]
  },
  {
   "cell_type": "code",
   "execution_count": 26,
   "metadata": {},
   "outputs": [
    {
     "name": "stdout",
     "output_type": "stream",
     "text": [
      "Current estimate cubed =  27\n",
      "Next guess to try =  2.185185185185185\n"
     ]
    }
   ],
   "source": [
    "x = int(input('What x to find the cube root of? '))\n",
    "g = int(input('What guess to start with? '))\n",
    "\n",
    "print('Current estimate cubed = ', g**3)\n",
    "next_g = g - ((g**3 - x)/(3*g**2))\n",
    "print('Next guess to try = ', next_g)"
   ]
  },
  {
   "cell_type": "code",
   "execution_count": 28,
   "metadata": {},
   "outputs": [
    {
     "name": "stdout",
     "output_type": "stream",
     "text": [
      "1000.0 is 50.0 % of 2000\n",
      "1000.0 is 50.0% of 2000\n",
      "1000.0 is 50.0% of 2000\n",
      "1,000 is 50.00% of 2,000\n"
     ]
    }
   ],
   "source": [
    "num = 2000\n",
    "fraction = 1/2\n",
    "print(num*fraction, 'is', fraction*100, '% of', num)\n",
    "print(num*fraction, 'is', str(fraction*100) + '% of', num)\n",
    "print(f'{num*fraction} is {fraction*100}% of {num}')\n",
    "print(f'{num*fraction:,.0f} is {fraction*100:,.2f}% of {num:,}')"
   ]
  },
  {
   "cell_type": "code",
   "execution_count": 30,
   "metadata": {},
   "outputs": [
    {
     "name": "stdout",
     "output_type": "stream",
     "text": [
      "False\n",
      "False\n"
     ]
    }
   ],
   "source": [
    "pset_time = 15\n",
    "sleep_time = 8\n",
    "print(sleep_time > pset_time)\n",
    "derive = True\n",
    "drink = False\n",
    "both = drink and derive # if both are true ,result will be true\n",
    "print(both)"
   ]
  },
  {
   "cell_type": "code",
   "execution_count": 31,
   "metadata": {},
   "outputs": [
    {
     "name": "stdout",
     "output_type": "stream",
     "text": [
      "impossible!\n"
     ]
    }
   ],
   "source": [
    "#Branching\n",
    "\n",
    "pset_time = 22\n",
    "sleep_time = 8\n",
    "if (pset_time + sleep_time) > 24:\n",
    "     print(\"impossible!\")\n",
    "elif (pset_time + sleep_time) >= 24:\n",
    "    print(\"full schedule!\")\n",
    "else:\n",
    "    leftover = abs(24-pset_time-sleep_time)\n",
    "    print(leftover,\"h of free time!\")\n",
    "    print(\"end of day\")"
   ]
  },
  {
   "cell_type": "code",
   "execution_count": 32,
   "metadata": {},
   "outputs": [
    {
     "name": "stdout",
     "output_type": "stream",
     "text": [
      "x and y are equal\n",
      "therefore, x / y is 1.0\n",
      "thanks!\n"
     ]
    }
   ],
   "source": [
    "# Nested Branching\n",
    "\n",
    "x = float(input(\"Enter a number for x: \"))\n",
    "y = float(input(\"Enter a number for y: \"))\n",
    "if x == y:\n",
    "    print(\"x and y are equal\")\n",
    "    if y != 0:\n",
    "       print(\"therefore, x / y is\", x/y)\n",
    "elif x < y:\n",
    "       print(\"x is smaller\")\n",
    "else:\n",
    "     print(\"y is smaller\")\n",
    "print(\"thanks!\")"
   ]
  },
  {
   "cell_type": "code",
   "execution_count": null,
   "metadata": {},
   "outputs": [],
   "source": []
  }
 ],
 "metadata": {
  "kernelspec": {
   "display_name": "Python 3",
   "language": "python",
   "name": "python3"
  },
  "language_info": {
   "codemirror_mode": {
    "name": "ipython",
    "version": 3
   },
   "file_extension": ".py",
   "mimetype": "text/x-python",
   "name": "python",
   "nbconvert_exporter": "python",
   "pygments_lexer": "ipython3",
   "version": "3.12.4"
  }
 },
 "nbformat": 4,
 "nbformat_minor": 2
}
