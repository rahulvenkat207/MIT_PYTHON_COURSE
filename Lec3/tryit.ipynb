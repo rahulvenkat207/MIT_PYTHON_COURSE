{
 "cells": [
  {
   "cell_type": "code",
   "execution_count": 5,
   "metadata": {},
   "outputs": [
    {
     "name": "stdout",
     "output_type": "stream",
     "text": [
      "The direction that you have entered:  right\n",
      "The direction that you have entered:  right\n",
      "The direction that you have entered:  right\n",
      "The direction that you have entered:  right\n",
      "You are out of te lost forest\n"
     ]
    }
   ],
   "source": [
    "# right,Right\n",
    "direction = input(\"You are in the lost forest. Go left or right\")\n",
    "while direction == \"right\":\n",
    "    print(\"The direction that you have entered: \",direction)\n",
    "    direction = input(\"You are in the lost forest. Go left or right\")\n",
    "print(\"You are out of te lost forest\")"
   ]
  },
  {
   "cell_type": "code",
   "execution_count": 6,
   "metadata": {},
   "outputs": [],
   "source": [
    "#while True:\n",
    "    #print(\"No\")->infiniteloop"
   ]
  },
  {
   "cell_type": "code",
   "execution_count": 10,
   "metadata": {},
   "outputs": [
    {
     "name": "stdout",
     "output_type": "stream",
     "text": [
      "Sad Face- :()\n",
      "Sad Face- :()\n",
      "Sad Face- :()\n",
      "Sad Face- :()\n",
      "You are out of te lost forest\n"
     ]
    }
   ],
   "source": [
    "# right,Right\n",
    "count = 0\n",
    "direction = input(\"You are in the lost forest. Go left or right\")\n",
    "while direction == \"right\":\n",
    "    count = count + 1\n",
    "    if count > 0 :\n",
    "        print(\"Sad Face- :()\")\n",
    "    direction = input(\"You are in the lost forest. Go left or right\")\n",
    "print(\"You are out of te lost forest\")"
   ]
  },
  {
   "cell_type": "code",
   "execution_count": 11,
   "metadata": {},
   "outputs": [
    {
     "name": "stdout",
     "output_type": "stream",
     "text": [
      "1\n",
      "2\n",
      "3\n"
     ]
    }
   ],
   "source": [
    "for i in range(1,4,1):\n",
    "    print(i)"
   ]
  },
  {
   "cell_type": "code",
   "execution_count": 13,
   "metadata": {},
   "outputs": [
    {
     "name": "stdout",
     "output_type": "stream",
     "text": [
      "2\n",
      "6\n"
     ]
    }
   ],
   "source": [
    "for i in range(1,4,2):\n",
    "    print(i*2)"
   ]
  },
  {
   "cell_type": "code",
   "execution_count": 15,
   "metadata": {},
   "outputs": [
    {
     "name": "stdout",
     "output_type": "stream",
     "text": [
      "$$$$\n",
      "$$$\n",
      "$$\n",
      "$\n"
     ]
    }
   ],
   "source": [
    "for i in range(4,0,-1):\n",
    "    print(\"$\"*i)"
   ]
  },
  {
   "cell_type": "code",
   "execution_count": 16,
   "metadata": {},
   "outputs": [
    {
     "name": "stdout",
     "output_type": "stream",
     "text": [
      "$$$$\n",
      "$$$\n",
      "$$\n",
      "$\n",
      "\n"
     ]
    }
   ],
   "source": [
    "for i in range(4,-1,-1):\n",
    "    print(\"$\"*i)"
   ]
  },
  {
   "cell_type": "code",
   "execution_count": 17,
   "metadata": {},
   "outputs": [
    {
     "name": "stdout",
     "output_type": "stream",
     "text": [
      "45\n"
     ]
    }
   ],
   "source": [
    "my_sum = 0\n",
    "for i in range(10):\n",
    "    my_sum +=i\n",
    "print(my_sum)"
   ]
  },
  {
   "cell_type": "code",
   "execution_count": 23,
   "metadata": {},
   "outputs": [
    {
     "name": "stdout",
     "output_type": "stream",
     "text": [
      "i= 3\n",
      "i= 4\n",
      "i= 5\n",
      "12\n"
     ]
    }
   ],
   "source": [
    "my_sum = 0\n",
    "start =3\n",
    "end = 5\n",
    "for i in range(start,end+1):\n",
    "    print(\"i=\",i)\n",
    "    my_sum +=i\n",
    "print(my_sum)"
   ]
  },
  {
   "cell_type": "code",
   "execution_count": 24,
   "metadata": {},
   "outputs": [
    {
     "name": "stdout",
     "output_type": "stream",
     "text": [
      "The factorial is 120\n"
     ]
    }
   ],
   "source": [
    "x = 5\n",
    "fact = 1\n",
    "for i in range(1,x+1,1):\n",
    "    fact *=i\n",
    "\n",
    "print(f\"The factorial is {fact}\")"
   ]
  },
  {
   "cell_type": "code",
   "execution_count": null,
   "metadata": {},
   "outputs": [],
   "source": []
  }
 ],
 "metadata": {
  "kernelspec": {
   "display_name": "Python 3",
   "language": "python",
   "name": "python3"
  },
  "language_info": {
   "codemirror_mode": {
    "name": "ipython",
    "version": 3
   },
   "file_extension": ".py",
   "mimetype": "text/x-python",
   "name": "python",
   "nbconvert_exporter": "python",
   "pygments_lexer": "ipython3",
   "version": "3.12.4"
  }
 },
 "nbformat": 4,
 "nbformat_minor": 2
}
