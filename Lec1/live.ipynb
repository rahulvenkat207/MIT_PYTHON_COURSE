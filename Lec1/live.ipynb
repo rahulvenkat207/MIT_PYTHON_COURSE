{
 "cells": [
  {
   "cell_type": "code",
   "execution_count": 1,
   "metadata": {},
   "outputs": [
    {
     "name": "stdout",
     "output_type": "stream",
     "text": [
      "<class 'int'>\n",
      "<class 'float'>\n"
     ]
    }
   ],
   "source": [
    "##  CHECK THE TYPE OF OBJECTS \n",
    "print(type(5))\n",
    "print(type(3.0))"
   ]
  },
  {
   "cell_type": "code",
   "execution_count": 2,
   "metadata": {},
   "outputs": [
    {
     "name": "stdout",
     "output_type": "stream",
     "text": [
      "3.0\n",
      "3\n",
      "4\n"
     ]
    }
   ],
   "source": [
    "## CONVERT TO ANOTHER TYPE \n",
    "print(float(3))\n",
    "print(int(3.9))\n",
    "print(round(3.9))"
   ]
  },
  {
   "cell_type": "code",
   "execution_count": 3,
   "metadata": {},
   "outputs": [
    {
     "name": "stdout",
     "output_type": "stream",
     "text": [
      "5\n",
      "35\n",
      "<class 'int'>\n",
      "35.0\n"
     ]
    }
   ],
   "source": [
    "##  EXPRESSIONS \n",
    "print(3+2)\n",
    "print((4+2)*6-1)\n",
    "print(type((4+2)*6-1))\n",
    "print(float((4+2)*6-1))"
   ]
  },
  {
   "cell_type": "code",
   "execution_count": 4,
   "metadata": {},
   "outputs": [
    {
     "name": "stdout",
     "output_type": "stream",
     "text": [
      "3.1415929203539825\n"
     ]
    }
   ],
   "source": [
    "##  VARIABLES \n",
    "pi = 355/113\n",
    "print(pi)"
   ]
  },
  {
   "cell_type": "code",
   "execution_count": 5,
   "metadata": {},
   "outputs": [
    {
     "name": "stdout",
     "output_type": "stream",
     "text": [
      "Circumference 13.823008849557525\n"
     ]
    }
   ],
   "source": [
    "#Compute approximate value for pi\n",
    "pi = 355/113\n",
    "radius = 2.2\n",
    "area = pi*(radius**2)\n",
    "circumference = pi*(radius*2)\n",
    "print(\"Circumference\",circumference)"
   ]
  }
 ],
 "metadata": {
  "kernelspec": {
   "display_name": "Python 3",
   "language": "python",
   "name": "python3"
  },
  "language_info": {
   "codemirror_mode": {
    "name": "ipython",
    "version": 3
   },
   "file_extension": ".py",
   "mimetype": "text/x-python",
   "name": "python",
   "nbconvert_exporter": "python",
   "pygments_lexer": "ipython3",
   "version": "3.12.4"
  }
 },
 "nbformat": 4,
 "nbformat_minor": 2
}
