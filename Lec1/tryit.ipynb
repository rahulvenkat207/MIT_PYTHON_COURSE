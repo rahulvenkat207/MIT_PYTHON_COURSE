{
 "cells": [
  {
   "cell_type": "code",
   "execution_count": 1,
   "metadata": {},
   "outputs": [
    {
     "name": "stdout",
     "output_type": "stream",
     "text": [
      "<class 'int'>\n",
      "<class 'float'>\n",
      "<class 'float'>\n",
      "<class 'bool'>\n",
      "<class 'bool'>\n"
     ]
    }
   ],
   "source": [
    "#finding DataTypes\n",
    "print(type(1234))\n",
    "print(type(8.99))\n",
    "print(type(9.0))\n",
    "print(type(True))\n",
    "print(type(False))\n"
   ]
  },
  {
   "cell_type": "code",
   "execution_count": 3,
   "metadata": {},
   "outputs": [
    {
     "name": "stdout",
     "output_type": "stream",
     "text": [
      "123.0\n",
      "8\n",
      "7.0\n",
      "7\n",
      "7\n"
     ]
    }
   ],
   "source": [
    "#Type casting \n",
    "print(float(123))\n",
    "print(round(7.9))\n",
    "print(float(round(7.2)))\n",
    "print(int(7.2))\n",
    "print(int(7.9))"
   ]
  },
  {
   "cell_type": "code",
   "execution_count": 4,
   "metadata": {},
   "outputs": [
    {
     "name": "stdout",
     "output_type": "stream",
     "text": [
      "0.0625\n",
      "<class 'int'>\n",
      "<class 'float'>\n",
      "0\n"
     ]
    }
   ],
   "source": [
    "#expressions\n",
    "print((13-4)/(12*12))\n",
    "print(type(4*3))\n",
    "print(type(4.0*3))\n",
    "print(int(1/2))"
   ]
  },
  {
   "cell_type": "code",
   "execution_count": 7,
   "metadata": {},
   "outputs": [
    {
     "name": "stdout",
     "output_type": "stream",
     "text": [
      "6\n",
      "6\n",
      "7\n"
     ]
    }
   ],
   "source": [
    "#variables\n",
    "x=6\n",
    "print(x)\n",
    "#  6 = x # Syntax error\n",
    "# X*y = 3+ 4  # Syntax error\n",
    "xy = 3+4\n",
    "print(x)\n",
    "print(xy)\n"
   ]
  },
  {
   "cell_type": "code",
   "execution_count": 8,
   "metadata": {},
   "outputs": [
    {
     "name": "stdout",
     "output_type": "stream",
     "text": [
      "328.08000000000004\n"
     ]
    }
   ],
   "source": [
    "metres = 100\n",
    "feet = 3.2808 * metres\n",
    "print(feet)"
   ]
  },
  {
   "cell_type": "code",
   "execution_count": 10,
   "metadata": {},
   "outputs": [
    {
     "name": "stdout",
     "output_type": "stream",
     "text": [
      "Value of X= 1\n",
      "value of y= 2\n"
     ]
    }
   ],
   "source": [
    "#Swapping\n",
    "x = 2\n",
    "y = 1\n",
    "temp = y\n",
    "y = x\n",
    "x = temp\n",
    "print(\"Value of X=\",x)\n",
    "print(\"value of y=\",y)"
   ]
  },
  {
   "cell_type": "code",
   "execution_count": null,
   "metadata": {},
   "outputs": [],
   "source": []
  }
 ],
 "metadata": {
  "kernelspec": {
   "display_name": "Python 3",
   "language": "python",
   "name": "python3"
  },
  "language_info": {
   "codemirror_mode": {
    "name": "ipython",
    "version": 3
   },
   "file_extension": ".py",
   "mimetype": "text/x-python",
   "name": "python",
   "nbconvert_exporter": "python",
   "pygments_lexer": "ipython3",
   "version": "3.12.4"
  }
 },
 "nbformat": 4,
 "nbformat_minor": 2
}
