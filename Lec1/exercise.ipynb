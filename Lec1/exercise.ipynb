{
 "cells": [
  {
   "cell_type": "markdown",
   "metadata": {},
   "source": [
    "Assume 3 variables are already defined for you: a, b, and c. Create a variable called total that adds a and\n",
    "b then multiplies the result by c. Include a last line in your code to print the value: print(total)"
   ]
  },
  {
   "cell_type": "code",
   "execution_count": 1,
   "metadata": {},
   "outputs": [
    {
     "name": "stdout",
     "output_type": "stream",
     "text": [
      "Total is 35\n"
     ]
    }
   ],
   "source": [
    "a = 3\n",
    "b = 4\n",
    "c = 5\n",
    "total = (a+b) * c\n",
    "print(\"Total is\",total)"
   ]
  },
  {
   "cell_type": "code",
   "execution_count": 3,
   "metadata": {},
   "outputs": [
    {
     "data": {
      "text/plain": [
       "'\\nWrite a program that does the following in order:\\n. At the top of your file and type: import numpy\\n. Now write a line that sets a variable named x to 5.\\n. Now write a line that sets a variable named y to 8.\\n. Add variables x and y, and save the result to a variable named z.\\n. Now save the result of this command: numpy.log2(z) to a variable named a.'"
      ]
     },
     "execution_count": 3,
     "metadata": {},
     "output_type": "execute_result"
    }
   ],
   "source": [
    "# Assignment\n",
    "\"\"\"\n",
    "Write a program that does the following in order:\n",
    ". At the top of your file and type: import numpy\n",
    ". Now write a line that sets a variable named x to 5.\n",
    ". Now write a line that sets a variable named y to 8.\n",
    ". Add variables x and y, and save the result to a variable named z.\n",
    ". Now save the result of this command: numpy.log2(z) to a variable named a.\"\"\""
   ]
  },
  {
   "cell_type": "code",
   "execution_count": 4,
   "metadata": {},
   "outputs": [
    {
     "name": "stdout",
     "output_type": "stream",
     "text": [
      "13\n"
     ]
    }
   ],
   "source": [
    "import numpy\n",
    "x = 5\n",
    "y = 8\n",
    "z = x +y\n",
    "a = numpy.log2(z)\n",
    "print(z)"
   ]
  }
 ],
 "metadata": {
  "kernelspec": {
   "display_name": "Python 3",
   "language": "python",
   "name": "python3"
  },
  "language_info": {
   "codemirror_mode": {
    "name": "ipython",
    "version": 3
   },
   "file_extension": ".py",
   "mimetype": "text/x-python",
   "name": "python",
   "nbconvert_exporter": "python",
   "pygments_lexer": "ipython3",
   "version": "3.12.4"
  }
 },
 "nbformat": 4,
 "nbformat_minor": 2
}
