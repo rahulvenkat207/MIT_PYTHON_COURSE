{
 "cells": [
  {
   "cell_type": "code",
   "execution_count": 1,
   "metadata": {},
   "outputs": [
    {
     "name": "stdout",
     "output_type": "stream",
     "text": [
      "5\n"
     ]
    }
   ],
   "source": [
    "mysum = 0\n",
    "for i in range(5,11,2):\n",
    "    mysum += i \n",
    "    if mysum ==5 :\n",
    "        break\n",
    "        mysum  +=1 # exists the loop after seeing break statement\n",
    "print(mysum)"
   ]
  },
  {
   "cell_type": "code",
   "execution_count": 3,
   "metadata": {},
   "outputs": [
    {
     "name": "stdout",
     "output_type": "stream",
     "text": [
      "There is an i or u\n",
      "There is an i or u\n"
     ]
    }
   ],
   "source": [
    "word = \"Demo loops - fruit loops\"\n",
    "for index in range(len(word)):\n",
    "    if word[index] == 'i' or word[index]== 'u':\n",
    "        print(\"There is an i or u\")"
   ]
  },
  {
   "cell_type": "code",
   "execution_count": 4,
   "metadata": {},
   "outputs": [
    {
     "name": "stdout",
     "output_type": "stream",
     "text": [
      "There is an i or u\n",
      "There is an i or u\n"
     ]
    }
   ],
   "source": [
    "for char in word:\n",
    "    if char == 'i' or char == 'u':\n",
    "        print(\"There is an i or u\")"
   ]
  },
  {
   "cell_type": "code",
   "execution_count": 5,
   "metadata": {},
   "outputs": [
    {
     "name": "stdout",
     "output_type": "stream",
     "text": [
      "There is an i or u\n",
      "There is an i or u\n"
     ]
    }
   ],
   "source": [
    "for char in word:\n",
    "    if char in 'iu':\n",
    "        print(\"There is an i or u\")"
   ]
  },
  {
   "cell_type": "markdown",
   "metadata": {},
   "source": [
    "# Robot cheerleaders"
   ]
  },
  {
   "cell_type": "code",
   "execution_count": 7,
   "metadata": {},
   "outputs": [
    {
     "name": "stdout",
     "output_type": "stream",
     "text": [
      "Give me a p:p\n",
      "Give me an i: i\n",
      "Give me an n: n\n",
      "Give me an e: e\n",
      "Give me an a: a\n",
      "Give me a p:p\n",
      "Give me a p:p\n",
      "Give me an l: l\n",
      "Give me an e: e\n",
      "Give me an s: s\n",
      "What's that spell?\n",
      "pineapples !!!\n",
      "pineapples !!!\n",
      "pineapples !!!\n",
      "pineapples !!!\n"
     ]
    }
   ],
   "source": [
    "an_letters = \"aefhilmnorsxAEFHILMNORSX\"\n",
    "\n",
    "word = input(\"I will cheer for you! Enter a word\")\n",
    "times = int(input(\"enthusiasm level!(1-10):\"))\n",
    "\n",
    "for c in word:\n",
    "    if c in an_letters:\n",
    "        print(f'Give me an {c}: {c}')\n",
    "    else:\n",
    "        print(f'Give me a {c}:{c}')\n",
    "\n",
    "print(\"What's that spell?\")\n",
    "for i in range(times):\n",
    "    print(word, '!!!')"
   ]
  },
  {
   "cell_type": "code",
   "execution_count": 11,
   "metadata": {},
   "outputs": [
    {
     "name": "stdout",
     "output_type": "stream",
     "text": [
      "Cube root of 27 is 3\n"
     ]
    }
   ],
   "source": [
    "cube = int(input(\"Enter an integer: \"))\n",
    "for guess in range(cube+1):\n",
    "     if guess**3 == cube:\n",
    "        print(\"Cube root of\", cube, \"is\", guess)"
   ]
  },
  {
   "cell_type": "code",
   "execution_count": 13,
   "metadata": {},
   "outputs": [
    {
     "name": "stdout",
     "output_type": "stream",
     "text": [
      "Cube root of -27 is -3\n"
     ]
    }
   ],
   "source": [
    "cube = int(input(\"Enter an integer: \"))\n",
    "for guess in range(abs(cube)+1):\n",
    "    if guess**3 == abs(cube):\n",
    "        if cube < 0:\n",
    "            guess = -guess\n",
    "        print(\"Cube root of \"+str(cube)+\" is \"+str(guess))"
   ]
  },
  {
   "cell_type": "code",
   "execution_count": 14,
   "metadata": {},
   "outputs": [
    {
     "name": "stdout",
     "output_type": "stream",
     "text": [
      "Cube root of 27 is 3\n"
     ]
    }
   ],
   "source": [
    "cube = int(input(\"Enter an integer: \"))\n",
    "for guess in range(abs(cube)+1):\n",
    "  if guess**3 >= abs(cube):\n",
    "    break\n",
    "if guess**3 != abs(cube):\n",
    "   print(cube, \"is not a perfect cube\")\n",
    "else:\n",
    "  if cube < 0:\n",
    "    guess = -guess\n",
    "  print(\"Cube root of \"+str(cube)+\" is \"+str(guess))"
   ]
  },
  {
   "cell_type": "code",
   "execution_count": 16,
   "metadata": {},
   "outputs": [
    {
     "name": "stdout",
     "output_type": "stream",
     "text": [
      "Alyssa sold 3 tickets\n",
      "Ben sold 1 tickets\n",
      "Cindy sold 6 tickets\n"
     ]
    }
   ],
   "source": [
    "for alyssa in range(11):\n",
    " for ben in range(11):\n",
    "  for cindy in range(11):\n",
    "    total = (alyssa + ben + cindy == 10)\n",
    "    two_less = (ben == alyssa-2)\n",
    "    twice = (cindy == 2*alyssa)\n",
    "    if total and two_less and twice:\n",
    "        print(f\"Alyssa sold {alyssa} tickets\")\n",
    "        print(f\"Ben sold {ben} tickets\")\n",
    "        print(f\"Cindy sold {cindy} tickets\")\n"
   ]
  },
  {
   "cell_type": "code",
   "execution_count": 19,
   "metadata": {},
   "outputs": [
    {
     "name": "stdout",
     "output_type": "stream",
     "text": [
      "Alyssa sold 255 tickets\n",
      "Ben sold 235 tickets\n",
      "Cindy sold 510 tickets\n"
     ]
    }
   ],
   "source": [
    "for alyssa in range(1001):\n",
    "    ben = max(alyssa - 20, 0)\n",
    "    cindy = alyssa * 2\n",
    "    if ben + cindy + alyssa == 1000:\n",
    "        print(\"Alyssa sold \" + str(alyssa) + \" tickets\")\n",
    "        print(\"Ben sold \" + str(ben) + \" tickets\")\n",
    "        print(\"Cindy sold \" + str(cindy) + \" tickets\")"
   ]
  },
  {
   "cell_type": "code",
   "execution_count": 20,
   "metadata": {},
   "outputs": [
    {
     "name": "stdout",
     "output_type": "stream",
     "text": [
      "False\n",
      "0.9999999999999999 == 1.0\n"
     ]
    }
   ],
   "source": [
    "x = 0\n",
    "for i in range(10):\n",
    "  x += 0.1\n",
    "print(x == 1)\n",
    "print(x, '==', 10*0.1)"
   ]
  },
  {
   "cell_type": "code",
   "execution_count": 22,
   "metadata": {},
   "outputs": [],
   "source": [
    "num = 1507\n",
    "result = ''\n",
    "if num == 0:\n",
    "  result = '0'\n",
    "while num > 0:\n",
    "  result = str(num%2) + result\n",
    "  num = num//2"
   ]
  },
  {
   "cell_type": "code",
   "execution_count": 24,
   "metadata": {},
   "outputs": [],
   "source": [
    "num =-1597\n",
    "if num < 0:\n",
    "  is_neg = True\n",
    "  num = abs(num)\n",
    "else:\n",
    "  is_neg = False\n",
    "result = ''\n",
    "if num == 0:\n",
    "  result = '0'\n",
    "while num > 0:\n",
    "  result = str(num%2) + result\n",
    "  num = num//2\n",
    "if is_neg:\n",
    "  result = '-' + result"
   ]
  },
  {
   "cell_type": "code",
   "execution_count": null,
   "metadata": {},
   "outputs": [],
   "source": []
  },
  {
   "cell_type": "code",
   "execution_count": null,
   "metadata": {},
   "outputs": [],
   "source": []
  },
  {
   "cell_type": "code",
   "execution_count": null,
   "metadata": {},
   "outputs": [],
   "source": []
  }
 ],
 "metadata": {
  "kernelspec": {
   "display_name": "Python 3",
   "language": "python",
   "name": "python3"
  },
  "language_info": {
   "codemirror_mode": {
    "name": "ipython",
    "version": 3
   },
   "file_extension": ".py",
   "mimetype": "text/x-python",
   "name": "python",
   "nbconvert_exporter": "python",
   "pygments_lexer": "ipython3",
   "version": "3.12.4"
  }
 },
 "nbformat": 4,
 "nbformat_minor": 2
}
