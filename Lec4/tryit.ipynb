{
 "cells": [
  {
   "cell_type": "code",
   "execution_count": 14,
   "metadata": {},
   "outputs": [
    {
     "name": "stdout",
     "output_type": "stream",
     "text": [
      "0\n",
      "2\n",
      "4\n",
      "number of even numbers:  3\n"
     ]
    }
   ],
   "source": [
    "even_nums = 0 \n",
    "for i in range(5):\n",
    "    if i%2 == 0:\n",
    "     even_nums +=1\n",
    "     print(i)\n",
    "print(\"number of even numbers: \",even_nums)"
   ]
  },
  {
   "cell_type": "code",
   "execution_count": 15,
   "metadata": {},
   "outputs": [
    {
     "name": "stdout",
     "output_type": "stream",
     "text": [
      "0\n",
      "2\n",
      "4\n",
      "6\n",
      "8\n",
      "number of even numbers:  5\n"
     ]
    }
   ],
   "source": [
    "even_nums = 0\n",
    "\n",
    "for i in range(10):\n",
    "    if i%2 == 0:\n",
    "     even_nums +=1\n",
    "     print(i)\n",
    "print(\"number of even numbers: \",even_nums)"
   ]
  },
  {
   "cell_type": "code",
   "execution_count": 16,
   "metadata": {},
   "outputs": [
    {
     "name": "stdout",
     "output_type": "stream",
     "text": [
      "2\n",
      "8\n",
      "number of even numbers:  2\n"
     ]
    }
   ],
   "source": [
    "even_nums = 0\n",
    "\n",
    "for i in range(2,9,3):\n",
    "    if i%2 == 0:\n",
    "     even_nums +=1\n",
    "     print(i)\n",
    "print(\"number of even numbers: \",even_nums)"
   ]
  },
  {
   "cell_type": "code",
   "execution_count": 17,
   "metadata": {},
   "outputs": [
    {
     "name": "stdout",
     "output_type": "stream",
     "text": [
      "-4\n",
      "-2\n",
      "0\n",
      "2\n",
      "4\n",
      "number of even numbers:  5\n"
     ]
    }
   ],
   "source": [
    "even_nums = 0\n",
    "for i in range(-4,6,2):\n",
    "     if i%2 == 0:\n",
    "       even_nums +=1\n",
    "     print(i)\n",
    "print(\"number of even numbers: \",even_nums)"
   ]
  },
  {
   "cell_type": "code",
   "execution_count": 18,
   "metadata": {},
   "outputs": [
    {
     "name": "stdout",
     "output_type": "stream",
     "text": [
      "5\n",
      "number of even numbers:  0\n"
     ]
    }
   ],
   "source": [
    "even_nums = 0\n",
    "for i in range(5,6):\n",
    "     if i%2 == 0:\n",
    "       even_nums +=1\n",
    "     print(i)\n",
    "print(\"number of even numbers: \",even_nums)"
   ]
  },
  {
   "cell_type": "code",
   "execution_count": 20,
   "metadata": {},
   "outputs": [
    {
     "name": "stdout",
     "output_type": "stream",
     "text": [
      "3\n"
     ]
    }
   ],
   "source": [
    "s = 'aaaaaabbbbbca'\n",
    "seen = ''\n",
    "count = 0\n",
    "for char in s:\n",
    "    if char not in seen :\n",
    "        seen = seen + char\n",
    "        count +=1\n",
    "\n",
    "print(count)\n",
    "\n"
   ]
  },
  {
   "cell_type": "markdown",
   "metadata": {},
   "source": [
    "# Guess and check Square Root with while loop"
   ]
  },
  {
   "cell_type": "code",
   "execution_count": 23,
   "metadata": {},
   "outputs": [
    {
     "name": "stdout",
     "output_type": "stream",
     "text": [
      "Square root of 100 is 10\n"
     ]
    }
   ],
   "source": [
    "guess = 0\n",
    "\n",
    "x = int(input(\"Enter an integer: \"))\n",
    "\n",
    "while guess**2 <x:\n",
    "    guess = guess +1\n",
    "if guess**2 == x:\n",
    "    print(\"Square root of\",x,\"is\",guess)\n",
    "else:\n",
    "    print(x,\"is not a perfect square\")"
   ]
  },
  {
   "cell_type": "code",
   "execution_count": 24,
   "metadata": {},
   "outputs": [
    {
     "name": "stdout",
     "output_type": "stream",
     "text": [
      "5 is not a perfect square\n"
     ]
    }
   ],
   "source": [
    "guess = 0\n",
    "\n",
    "neg = False\n",
    "\n",
    "x = int(input(\"Enter an integer: \"))\n",
    "\n",
    "if x < 0 :\n",
    "    neg=True\n",
    "\n",
    "while guess**2 <x:\n",
    "    guess = guess +1\n",
    "if guess**2 == x:\n",
    "    print(\"Square root of\",x,\"is\",guess)\n",
    "else:\n",
    "    print(x,\"is not a perfect square\")\n",
    "    if neg:\n",
    "        print(\"You entered a negative number\")"
   ]
  },
  {
   "cell_type": "code",
   "execution_count": 29,
   "metadata": {},
   "outputs": [
    {
     "name": "stdout",
     "output_type": "stream",
     "text": [
      "found\n",
      "found\n"
     ]
    }
   ],
   "source": [
    "secret = 5\n",
    "found = False\n",
    "for i in range(1,11):\n",
    "    if i == secret:\n",
    "        print(\"found\")\n",
    "        found = True\n",
    "if not found:\n",
    "    print('not found')\n",
    "else:\n",
    "    print(\"found\")\n",
    "\n"
   ]
  },
  {
   "cell_type": "code",
   "execution_count": null,
   "metadata": {},
   "outputs": [],
   "source": []
  }
 ],
 "metadata": {
  "kernelspec": {
   "display_name": "Python 3",
   "language": "python",
   "name": "python3"
  },
  "language_info": {
   "codemirror_mode": {
    "name": "ipython",
    "version": 3
   },
   "file_extension": ".py",
   "mimetype": "text/x-python",
   "name": "python",
   "nbconvert_exporter": "python",
   "pygments_lexer": "ipython3",
   "version": "3.12.4"
  }
 },
 "nbformat": 4,
 "nbformat_minor": 2
}
