{
 "cells": [
  {
   "cell_type": "code",
   "execution_count": 1,
   "metadata": {},
   "outputs": [
    {
     "name": "stdout",
     "output_type": "stream",
     "text": [
      "3\n"
     ]
    }
   ],
   "source": [
    "def eval_quadratic(a, b, c, x):\n",
    "    \"\"\"\n",
    "    a, b, c: numerical values for the coefficients of a quadratic equation\n",
    "    x: numerical value at which to evaluate the quadratic.\n",
    "    Returns the value of the quadratic a×x² + b×x + c.\n",
    "    \"\"\"\n",
    "    return a * x**2 + b * x + c\n",
    "\n",
    "  \n",
    "print(eval_quadratic(1, 1, 1, 1)) \n"
   ]
  },
  {
   "cell_type": "code",
   "execution_count": 3,
   "metadata": {},
   "outputs": [
    {
     "name": "stdout",
     "output_type": "stream",
     "text": [
      "6\n"
     ]
    }
   ],
   "source": [
    "def eval_quadratic(a, b, c, x):\n",
    "    \"\"\"\n",
    "    Helper function to evaluate a quadratic equation.\n",
    "    Returns the value of the quadratic a×x² + b×x + c.\n",
    "    \"\"\"\n",
    "    return a * x**2 + b * x + c\n",
    "\n",
    "def two_quadratics(a1, b1, c1, x1, a2, b2, c2, x2):\n",
    "    \"\"\"\n",
    "    Evaluates one quadratic with coefficients a1, b1, c1, at x1.\n",
    "    Evaluates another quadratic with coefficients a2, b2, c2, at x2.\n",
    "    Prints the sum of the two evaluations. Does not return anything.\n",
    "    \"\"\"\n",
    "    result = eval_quadratic(a1, b1, c1, x1) + eval_quadratic(a2, b2, c2, x2)\n",
    "    print(result)\n",
    "\n",
    "two_quadratics(1, 1, 1, 1, 1, 1, 1, 1)\n"
   ]
  },
  {
   "cell_type": "code",
   "execution_count": null,
   "metadata": {},
   "outputs": [],
   "source": []
  }
 ],
 "metadata": {
  "kernelspec": {
   "display_name": "Python 3",
   "language": "python",
   "name": "python3"
  },
  "language_info": {
   "codemirror_mode": {
    "name": "ipython",
    "version": 3
   },
   "file_extension": ".py",
   "mimetype": "text/x-python",
   "name": "python",
   "nbconvert_exporter": "python",
   "pygments_lexer": "ipython3",
   "version": "3.12.4"
  }
 },
 "nbformat": 4,
 "nbformat_minor": 2
}
