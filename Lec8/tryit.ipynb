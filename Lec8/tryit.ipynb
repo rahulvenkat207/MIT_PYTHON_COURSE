{
 "cells": [
  {
   "cell_type": "code",
   "execution_count": 4,
   "metadata": {},
   "outputs": [
    {
     "name": "stdout",
     "output_type": "stream",
     "text": [
      "5\n",
      "12\n",
      "20\n",
      "None\n"
     ]
    }
   ],
   "source": [
    "def add(x,y):\n",
    "    return x+y\n",
    "def mult(x,y):\n",
    "    print(x*y)\n",
    "\n",
    "add(1,2)\n",
    "print(add(2,3))\n",
    "mult(3,4)\n",
    "print(mult(4,5))"
   ]
  },
  {
   "cell_type": "code",
   "execution_count": 5,
   "metadata": {},
   "outputs": [
    {
     "name": "stdout",
     "output_type": "stream",
     "text": [
      "False\n",
      "None\n",
      "True\n",
      "False\n",
      "None\n",
      "False\n",
      "None\n"
     ]
    }
   ],
   "source": [
    "def is_triangular(n):\n",
    "    \"\"\" n is an int > 0 \n",
    "        Returns True if n is triangular, i.e. equals a continued\n",
    "        summation of natural numbers (1+2+3+...+k) \n",
    "    \"\"\"\n",
    "    total = 0\n",
    "    for i in range(n):\n",
    "        total += i\n",
    "        if total == n:\n",
    "            print(True)\n",
    "    print(False)\n",
    "\n",
    "\n",
    "print(is_triangular(4))  \n",
    "print(is_triangular(6))  \n",
    "print(is_triangular(1))  "
   ]
  },
  {
   "cell_type": "code",
   "execution_count": 6,
   "metadata": {},
   "outputs": [
    {
     "name": "stdout",
     "output_type": "stream",
     "text": [
      "2.0\n",
      "11.090194702148438\n"
     ]
    }
   ],
   "source": [
    "def bisection_root(x):\n",
    "    epsilon = 0.01\n",
    "    low = 0\n",
    "    high = x\n",
    "    ans = (high + low)/2.0\n",
    "    while abs(ans**2 - x) >= epsilon:\n",
    "        if ans**2 < x: \n",
    "            low = ans\n",
    "        else: \n",
    "            high = ans\n",
    "        ans = (high + low)/2.0\n",
    "\n",
    "    return ans\n",
    "\n",
    "print(bisection_root(4))\n",
    "print(bisection_root(123))"
   ]
  },
  {
   "cell_type": "code",
   "execution_count": 10,
   "metadata": {},
   "outputs": [
    {
     "name": "stdout",
     "output_type": "stream",
     "text": [
      "4\n"
     ]
    }
   ],
   "source": [
    "def how_many_sqrt_close_to(n, epsilon):\n",
    "    \"\"\" n is an int > 0\n",
    "        epsilon is a number\n",
    "    Returns how many integers have a square root within epsilon of n \"\"\"\n",
    "    count = 0\n",
    "    for i in range(n**3):\n",
    "        if n-epsilon < bisection_root(i) < n+epsilon:\n",
    "            count += 1\n",
    "    return count\n",
    "\n",
    "print(how_many_sqrt_close_to(10, 0.1))"
   ]
  },
  {
   "cell_type": "code",
   "execution_count": 11,
   "metadata": {},
   "outputs": [],
   "source": [
    "def apply(criteria,n):\n",
    "    \"\"\" criteria is a function that takes in a number and returns a Boolean\n",
    "        n is an int\n",
    "    Returns how many ints from 0 to n (inclusive) match the criteria \n",
    "    (i.e. return True when criteria is applied to them)\n",
    "    \"\"\" \n",
    "    pass\n",
    "    count = 0\n",
    "    for i in range(0, n+1):\n",
    "        if criteria(i):\n",
    "            count += 1\n",
    "    return count"
   ]
  },
  {
   "cell_type": "code",
   "execution_count": 12,
   "metadata": {},
   "outputs": [
    {
     "name": "stdout",
     "output_type": "stream",
     "text": [
      "6\n",
      "1\n"
     ]
    }
   ],
   "source": [
    "def is_even(x):\n",
    "    return x%2==0\n",
    "what = apply(is_even,10)\n",
    "print(what)\n",
    "\n",
    "print(apply(lambda x: x==5, 100))"
   ]
  },
  {
   "cell_type": "code",
   "execution_count": null,
   "metadata": {},
   "outputs": [],
   "source": []
  }
 ],
 "metadata": {
  "kernelspec": {
   "display_name": "Python 3",
   "language": "python",
   "name": "python3"
  },
  "language_info": {
   "codemirror_mode": {
    "name": "ipython",
    "version": 3
   },
   "file_extension": ".py",
   "mimetype": "text/x-python",
   "name": "python",
   "nbconvert_exporter": "python",
   "pygments_lexer": "ipython3",
   "version": "3.12.4"
  }
 },
 "nbformat": 4,
 "nbformat_minor": 2
}
